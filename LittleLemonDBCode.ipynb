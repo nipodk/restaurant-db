{
 "cells": [
  {
   "cell_type": "code",
   "execution_count": 19,
   "id": "e5baac2e",
   "metadata": {
    "scrolled": true
   },
   "outputs": [
    {
     "name": "stdout",
     "output_type": "stream",
     "text": [
      "Requirement already satisfied: mysql-connector-python in /Users/nikitapodkopaev/anaconda3/lib/python3.11/site-packages (9.2.0)\r\n"
     ]
    }
   ],
   "source": [
    "!pip install mysql-connector-python"
   ]
  },
  {
   "cell_type": "code",
   "execution_count": 20,
   "id": "ddc44298",
   "metadata": {},
   "outputs": [
    {
     "name": "stdout",
     "output_type": "stream",
     "text": [
      "[('Bookings',), ('Customer',), ('DeliveryStatus',), ('Employee',), ('ItemsInMenu',), ('MenuItems',), ('Menus',), ('Orders',), ('ordersview',)]\n"
     ]
    }
   ],
   "source": [
    "import mysql.connector as connector\n",
    "connection = connector.connect(user = \"root\", password = \"12345678\", database = \"LittleLemonDB\")\n",
    "cursor = connection.cursor()\n",
    "show_tables_query = \"SHOW tables\" \n",
    "cursor.execute(show_tables_query)\n",
    "tables = cursor.fetchall()\n",
    "\n",
    "print(tables)"
   ]
  },
  {
   "cell_type": "code",
   "execution_count": 21,
   "id": "56fc29f3",
   "metadata": {},
   "outputs": [
    {
     "name": "stdout",
     "output_type": "stream",
     "text": [
      "Name: Oliver Taylor. Contact data: phone oliver.taylor@example.com, email: 1234567892\n",
      "Name: Liam Anderson. Contact data: phone liam.anderson@example.com, email: 1234567894\n"
     ]
    }
   ],
   "source": [
    "promotion_query = \"\"\"select concat(Customer.name, \" \", Customer.surname), Customer.email, Customer.phone from Customer \n",
    "inner join Orders on Customer.customerId = Orders.customerId where Orders.totalAmount > 60;\"\"\" \n",
    "\n",
    "cursor.execute(promotion_query)\n",
    "\n",
    "promotional_info = cursor.fetchall()\n",
    "\n",
    "for data in promotional_info:\n",
    "    print(\"Name: {}. Contact data: phone {}, email: {}\".format(data[0], data[1], data[2]))"
   ]
  }
 ],
 "metadata": {
  "kernelspec": {
   "display_name": "Python 3 (ipykernel)",
   "language": "python",
   "name": "python3"
  },
  "language_info": {
   "codemirror_mode": {
    "name": "ipython",
    "version": 3
   },
   "file_extension": ".py",
   "mimetype": "text/x-python",
   "name": "python",
   "nbconvert_exporter": "python",
   "pygments_lexer": "ipython3",
   "version": "3.11.5"
  }
 },
 "nbformat": 4,
 "nbformat_minor": 5
}
